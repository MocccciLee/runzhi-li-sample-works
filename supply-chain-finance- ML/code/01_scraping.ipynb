{
 "cells": [
  {
   "cell_type": "markdown",
   "id": "5528e1fb",
   "metadata": {},
   "source": [
    "# Part1: Scraping to obtain all Supply Chain Finance data\n",
    " <span style=\"color:red;\">**Note: Since the work is divided into scraping and subsequent manual processing, the project code is split into five files. This is the first code file.**</span>\n",
    "## 1. Packages"
   ]
  },
  {
   "cell_type": "code",
   "execution_count": 1,
   "id": "7cbf202f",
   "metadata": {},
   "outputs": [],
   "source": [
    "from selenium import webdriver\n",
    "from selenium.webdriver.common.by import By\n",
    "from selenium.webdriver.common.keys import Keys\n",
    "from selenium.webdriver.support.ui import WebDriverWait\n",
    "from selenium.webdriver.support import expected_conditions as EC\n",
    "from selenium.webdriver.common.action_chains import ActionChains\n",
    "import pandas as pd\n",
    "import time"
   ]
  },
  {
   "cell_type": "markdown",
   "id": "64fbf7ed",
   "metadata": {},
   "source": [
    "## 2. Define functions\n",
    "### 1.1 Login function\n",
    " <span style=\"color:red;\">**Note: This is a trial account, valid for seven days, until July 4, 2024. If the account expires, you can register a new one.**</span>"
   ]
  },
  {
   "cell_type": "code",
   "execution_count": 2,
   "id": "ca040074",
   "metadata": {},
   "outputs": [],
   "source": [
    "def login_to_jianwei():\n",
    "    url = \"https://www.jianweidata.com/Index\"\n",
    "    username = \"18379771599\"\n",
    "    password = \"Try123456\"\n",
    "\n",
    "    # 初始化WebDriver\n",
    "    driver = webdriver.Chrome()\n",
    "    driver.get(url)\n",
    "\n",
    "    # 点击登录按钮以打开登录框\n",
    "    WebDriverWait(driver, 10).until(EC.element_to_be_clickable((By.CSS_SELECTOR, \".login-info\"))).click()\n",
    "\n",
    "    # 填写用户名和密码并提交\n",
    "    WebDriverWait(driver, 10).until(EC.visibility_of_element_located((By.ID, \"username\"))).send_keys(username)\n",
    "    driver.find_element(By.ID, \"password\").send_keys(password)\n",
    "    driver.find_element(By.CSS_SELECTOR, \"button.btn.btn-default.pull-left\").click()\n",
    "\n",
    "    # 等待登录成功\n",
    "    WebDriverWait(driver, 10).until(EC.visibility_of_element_located((By.CSS_SELECTOR, \".user-info.usual-header-link\")))\n",
    "\n",
    "    # 点击“跳过”按钮，使用JS点击防止遮挡问题\n",
    "    skip_button = WebDriverWait(driver, 10).until(EC.element_to_be_clickable((By.XPATH, \"//span[contains(text(), '跳过')]\")))\n",
    "    driver.execute_script(\"arguments[0].click();\", skip_button)\n",
    "\n",
    "    return driver"
   ]
  },
  {
   "cell_type": "markdown",
   "id": "906c518d",
   "metadata": {},
   "source": [
    "### 1.2 Manual page navigation\n"
   ]
  },
  {
   "cell_type": "code",
   "execution_count": 3,
   "id": "bb2c6877",
   "metadata": {},
   "outputs": [],
   "source": [
    "def manual_navigation_to_page(driver):\n",
    "    input(\"请在浏览器中手动翻页到需要的页面，然后回到这里按回车继续...\")"
   ]
  },
  {
   "cell_type": "markdown",
   "id": "6a1b7a6d",
   "metadata": {},
   "source": [
    "### 1.3 Regex to match illegal characters"
   ]
  },
  {
   "cell_type": "code",
   "execution_count": 4,
   "id": "3216b239",
   "metadata": {},
   "outputs": [],
   "source": [
    "import re\n",
    "\n",
    "def remove_illegal_chars(text):\n",
    "    # 正则表达式匹配非法字符\n",
    "    illegal_chars_pattern = re.compile(r'[\\000-\\010]|[\\013-\\014]|[\\016-\\037]')\n",
    "    # 移除非法字符\n",
    "    cleaned_text = re.sub(illegal_chars_pattern, '', text)\n",
    "    return cleaned_text"
   ]
  },
  {
   "cell_type": "markdown",
   "id": "e38d5602",
   "metadata": {},
   "source": [
    "### 1.4 Scraping\n",
    " <span style=\"color:red;\">**Note: Chromedriver is required to drive the browser!**</span>"
   ]
  },
  {
   "cell_type": "code",
   "execution_count": 5,
   "id": "b3eb3589",
   "metadata": {},
   "outputs": [],
   "source": [
    "def search_and_extract_data(driver):\n",
    "    driver.get(\"https://www.jianweidata.com/IndexSearch\")\n",
    "    WebDriverWait(driver, 10).until(EC.element_to_be_clickable((By.XPATH, \"//span[contains(text(), '跳过')]\"))).click()\n",
    "    \n",
    "    search_input = WebDriverWait(driver, 10).until(\n",
    "        EC.visibility_of_element_located((By.CSS_SELECTOR, \".main-sreach-input\")))\n",
    "    search_input.send_keys(\"供应链金融\")\n",
    "    driver.find_element(By.CSS_SELECTOR, \".sreach-button\").click()\n",
    "\n",
    "    # 确保搜索结果已加载\n",
    "    WebDriverWait(driver, 10).until(EC.visibility_of_all_elements_located((By.CSS_SELECTOR, \".info-item\")))\n",
    "\n",
    "    # 手动翻页\n",
    "    manual_navigation_to_page(driver)\n",
    "\n",
    "    collected_data = []\n",
    "    current_items_count = 0  \n",
    "    \n",
    "    items = WebDriverWait(driver, 10).until(\n",
    "        EC.presence_of_all_elements_located((By.CSS_SELECTOR, \".info-item\")))\n",
    "\n",
    "    current_items_count = 0\n",
    "    collected_data = []\n",
    "\n",
    "    # 迭代所有items，但只对非第一个item执行点击操作\n",
    "    for index, item in enumerate(items):\n",
    "        if index > 0:  # 跳过第一个元素的点击操作\n",
    "            expand_icon = item.find_element(By.CSS_SELECTOR, \".icon-drop\")\n",
    "            driver.execute_script(\"arguments[0].click();\", expand_icon)\n",
    "            time.sleep(1)  # 等待内容展开  \n",
    "\n",
    "        # 继续抓取所有元素的数据\n",
    "        stock_code = item.find_element(By.CSS_SELECTOR, \".stock\").text.strip()\n",
    "        title = item.find_element(By.CSS_SELECTOR, \".info-title\").text.strip()\n",
    "        date = item.find_element(By.CSS_SELECTOR, \".info-time\").text.strip()\n",
    "        summary_elements = item.find_elements(By.CSS_SELECTOR, \".info-word .para\")\n",
    "        summaries = \" | \".join([summary.text.strip() for summary in summary_elements])\n",
    "\n",
    "        collected_data.append({\n",
    "            \"股票代码\": stock_code,\n",
    "            \"标题\": title,\n",
    "            \"发布时间\": date,\n",
    "            \"摘要内容\": summaries\n",
    "        })\n",
    "\n",
    "        current_items_count += 1\n",
    "\n",
    "    print(f\"Processed {current_items_count} items.\")\n",
    "    return collected_data\n"
   ]
  },
  {
   "cell_type": "markdown",
   "id": "f137981f",
   "metadata": {},
   "source": [
    "## 2. Run functions\n",
    "<span style=\"color:red; font-weight:bold;\">\n",
    "Note: \n",
    "    \n",
    "1. Since the website has anti-scraping mechanisms (refreshing requires reloading all data, page links don’t auto-refresh), manual adjustments are required: first set “100 items per page” at the bottom, then flip pages manually.\n",
    "    \n",
    "2. Chromedriver is required to ensure automated Chrome operation.\n",
    "    \n",
    "</span>"
   ]
  },
  {
   "cell_type": "code",
   "execution_count": 7,
   "id": "8f096b94",
   "metadata": {},
   "outputs": [
    {
     "name": "stdout",
     "output_type": "stream",
     "text": [
      "请在浏览器中手动翻页到需要的页面，然后回到这里按回车继续...\n",
      "Processed 100 items.\n",
      "Collected data has been appended to the Excel file.\n"
     ]
    }
   ],
   "source": [
    "# 登录并调用提取数据的函数\n",
    "driver = login_to_jianwei()  \n",
    "data = search_and_extract_data(driver)\n",
    "\n",
    "# 准备DataFrame\n",
    "new_data = pd.DataFrame(data)\n",
    "\n",
    "# 遍历数据并清理每个相关列\n",
    "columns_to_clean = ['摘要内容', '标题']  \n",
    "for column in columns_to_clean:\n",
    "    new_data[column] = new_data[column].apply(remove_illegal_chars)\n",
    "\n",
    "# 指定文件路径\n",
    "file_path = \"Extracted_Data.xlsx\"\n",
    "\n",
    "# 检查文件是否存在并读取旧数据\n",
    "try:\n",
    "    old_data = pd.read_excel(file_path)\n",
    "    combined_data = pd.concat([old_data, new_data], ignore_index=True)\n",
    "except FileNotFoundError:\n",
    "    combined_data = new_data\n",
    "\n",
    "    \n",
    "# 使用ExcelWriter写入数据，指定openpyxl引擎\n",
    "with pd.ExcelWriter(file_path, engine='openpyxl') as writer:\n",
    "    combined_data.to_excel(writer, index=False, sheet_name='Sheet1')\n",
    "    \n",
    "print(\"Collected data has been appended to the Excel file.\")\n",
    "driver.quit()"
   ]
  },
  {
   "cell_type": "code",
   "execution_count": null,
   "id": "1594d665",
   "metadata": {},
   "outputs": [],
   "source": []
  }
 ],
 "metadata": {
  "kernelspec": {
   "display_name": "Python 3 (ipykernel)",
   "language": "python",
   "name": "python3"
  },
  "language_info": {
   "codemirror_mode": {
    "name": "ipython",
    "version": 3
   },
   "file_extension": ".py",
   "mimetype": "text/x-python",
   "name": "python",
   "nbconvert_exporter": "python",
   "pygments_lexer": "ipython3",
   "version": "3.13.5"
  }
 },
 "nbformat": 4,
 "nbformat_minor": 5
}
