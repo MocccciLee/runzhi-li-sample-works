{
 "cells": [
  {
   "cell_type": "code",
   "execution_count": 1,
   "id": "b25a63fd",
   "metadata": {},
   "outputs": [
    {
     "name": "stdout",
     "output_type": "stream",
     "text": [
      "results saved as employment_growth_rate.csv\n"
     ]
    }
   ],
   "source": [
    "import pandas as pd\n",
    "\n",
    "# Load the 2022 and 2019 datasets\n",
    "data_2022_path = 'data2019.csv'\n",
    "data_2019_path = 'data2022.csv'\n",
    "\n",
    "data_2022 = pd.read_csv(data_2022_path)\n",
    "data_2019 = pd.read_csv(data_2019_path)\n",
    "\n",
    "# Ensure EMP is treated as numeric for calculations, and filter out missing or invalid entries\n",
    "data_2022['EMP'] = pd.to_numeric(data_2022['EMP'], errors='coerce')\n",
    "data_2019['EMP'] = pd.to_numeric(data_2019['EMP'], errors='coerce')\n",
    "\n",
    "# Merge datasets based on common identifiers (STATEA, COUNTYA, and naics)\n",
    "merged_data = pd.merge(\n",
    "    data_2019[['STATEA', 'COUNTYA', 'naics', 'EMP']].rename(columns={'EMP': 'EMP_2019'}),\n",
    "    data_2022[['STATEA', 'COUNTYA', 'naics', 'EMP']].rename(columns={'EMP': 'EMP_2022'}),\n",
    "    on=['STATEA', 'COUNTYA', 'naics'],\n",
    "    how='inner'\n",
    ")\n",
    "\n",
    "# Calculate growth rate: (EMP_2022 - EMP_2019) / EMP_2019\n",
    "merged_data['Growth_Rate'] = ((merged_data['EMP_2022'] - merged_data['EMP_2019']) / \n",
    "                              merged_data['EMP_2019']) * 100\n",
    "\n",
    "# Drop rows with missing EMP_2019 or EMP_2022 values\n",
    "merged_data = merged_data.dropna(subset=['EMP_2019', 'EMP_2022'])\n",
    "\n",
    "# Save the result to a new CSV file\n",
    "merged_data.to_csv('employment_growth_rate.csv', index=False)\n",
    "\n",
    "print(\"results saved as employment_growth_rate.csv\")"
   ]
  },
  {
   "cell_type": "code",
   "execution_count": null,
   "id": "4ca3b6c1",
   "metadata": {},
   "outputs": [],
   "source": []
  }
 ],
 "metadata": {
  "kernelspec": {
   "display_name": "Python 3 (ipykernel)",
   "language": "python",
   "name": "python3"
  },
  "language_info": {
   "codemirror_mode": {
    "name": "ipython",
    "version": 3
   },
   "file_extension": ".py",
   "mimetype": "text/x-python",
   "name": "python",
   "nbconvert_exporter": "python",
   "pygments_lexer": "ipython3",
   "version": "3.11.3"
  }
 },
 "nbformat": 4,
 "nbformat_minor": 5
}
