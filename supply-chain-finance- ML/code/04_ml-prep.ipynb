{
 "cells": [
  {
   "cell_type": "markdown",
   "id": "221a26d2",
   "metadata": {},
   "source": [
    "# Part4: Machine Learning - Data Processing\n",
    "<span style=\"color:red;\">**Note: Since the work is divided into scraping and subsequent manual processing, the project code is split into five files. This is the fourth code file.**</span>\n",
    "\n",
    "## Since this section is relatively simple, it only constructs the Y variable for the machine learning part and conducts some basic data processing. Therefore, detailed comments are not provided."
   ]
  },
  {
   "cell_type": "code",
   "execution_count": 1,
   "id": "69f9d315",
   "metadata": {},
   "outputs": [],
   "source": [
    "import pandas as pd\n",
    "\n",
    "industry_data_path = '中间数据/行业数据.xlsx'\n",
    "supply_chain_data_path = '中间数据/供应链韧性数据.xlsx'\n",
    "\n",
    "industry_data = pd.read_excel(industry_data_path)\n",
    "supply_chain_data = pd.read_excel(supply_chain_data_path)\n",
    "\n",
    "#industry_data.head(), supply_chain_data.head()"
   ]
  },
  {
   "cell_type": "code",
   "execution_count": 2,
   "id": "e63ab7c8",
   "metadata": {},
   "outputs": [
    {
     "data": {
      "text/plain": [
       "(    id  year  pm      流动比率     资产负债率        Q值  两职合一  上游企业数字化程度  \\\n",
       " 7    4  2013   1  0.811877  0.534334  1.254200     0   0.000000   \n",
       " 8    4  2012   1  0.807468  0.619304  1.203142     0   0.000002   \n",
       " 9    5  2015   0  0.942235  0.681256  2.366791     1   0.187198   \n",
       " 10   5  2016   0  0.938173  0.770794  1.996240     1   0.024830   \n",
       " 13   7  2012   1  0.864309  0.665814  1.309076     0   0.080491   \n",
       " \n",
       "     在 t-1 年的数字化转型程度         规模    研发投入强度     董事会规模    资金占用情况  上游企业库存调整幅度  \\\n",
       " 7          0.007959  22.077360  0.000000  2.197225 -1.241733   19.110195   \n",
       " 8          0.008383  22.097160  0.000000  2.197225 -1.241733   19.176721   \n",
       " 9          0.001067  22.113916  0.033200  2.197225 -0.878218   18.940270   \n",
       " 10         0.001454  22.800978  0.029831  2.197225 -0.878218   18.920069   \n",
       " 13         0.000972  20.921334  0.000000  2.197225 -0.878218   18.113855   \n",
       " \n",
       "      公司名称 所属一级行业  \n",
       " 7    国华网安   信息技术  \n",
       " 8    国华网安   信息技术  \n",
       " 9    唐城文化   可选消费  \n",
       " 10   唐城文化   可选消费  \n",
       " 13  *ST全新   可选消费  ,\n",
       "           代码    名称     Wind代码 所属Wind行业名称\\n[行业级别]一级行业  \\\n",
       " 1  001208.SZ  华菱线缆  001208.SZ                     工业   \n",
       " 2  001324.SZ  长青科技  001324.SZ                     工业   \n",
       " 3  002073.SZ  软控股份  002073.SZ                     工业   \n",
       " 4  002413.SZ  雷科防务  002413.SZ                     工业   \n",
       " 5  002541.SZ  鸿路钢构  002541.SZ                     工业   \n",
       " \n",
       "   存货\\n[单位]万元\\n[报告期]2020-12-31\\n[报表类型]合并报表  \\\n",
       " 1                            23104.862868   \n",
       " 2                            11691.773134   \n",
       " 3                           210622.155825   \n",
       " 4                            74625.805881   \n",
       " 5                           574316.666025   \n",
       " \n",
       "   存货\\n[单位]万元\\n[报告期]2021-12-31\\n[报表类型]合并报表  \\\n",
       " 1                            35466.392909   \n",
       " 2                            12075.133958   \n",
       " 3                           350453.642429   \n",
       " 4                           102644.499809   \n",
       " 5                           750018.707863   \n",
       " \n",
       "   存货\\n[单位]万元\\n[报告期]2022-12-31\\n[报表类型]合并报表  \\\n",
       " 1                             41595.24216   \n",
       " 2                             9490.657926   \n",
       " 3                           466122.649967   \n",
       " 4                           110917.723383   \n",
       " 5                           828367.052407   \n",
       " \n",
       "   存货\\n[单位]万元\\n[报告期]2023-12-31\\n[报表类型]合并报表  \\\n",
       " 1                            44215.719543   \n",
       " 2                             11600.70971   \n",
       " 3                           567327.487412   \n",
       " 4                            98070.568322   \n",
       " 5                           841919.195702   \n",
       " \n",
       "   应收票据\\n[单位]万元\\n[报告期]2021-12-31\\n[报表类型]合并报表  \\\n",
       " 1                               40641.73377   \n",
       " 2                                 1950.8319   \n",
       " 3                              30911.658179   \n",
       " 4                              33424.981416   \n",
       " 5                               1038.873709   \n",
       " \n",
       "   应收票据\\n[单位]万元\\n[报告期]2022-12-31\\n[报表类型]合并报表  ...  \\\n",
       " 1                              37016.817014  ...   \n",
       " 2                               1871.385423  ...   \n",
       " 3                              25456.959405  ...   \n",
       " 4                              31647.399616  ...   \n",
       " 5                               1320.185777  ...   \n",
       " \n",
       "   预付款项\\n[单位]万元\\n[报告期]2023-12-31\\n[报表类型]合并报表  \\\n",
       " 1                                  268.9592   \n",
       " 2                                407.988342   \n",
       " 3                              17628.419851   \n",
       " 4                               3486.955027   \n",
       " 5                              71648.654257   \n",
       " \n",
       "   主营业务收入\\n[单位]万元\\n[报告期]2021-12-31\\n[报表类型]合并报表  \\\n",
       " 1                               250985.553531   \n",
       " 2                                46779.297989   \n",
       " 3                               516041.458285   \n",
       " 4                               160690.823843   \n",
       " 5                              1869717.172139   \n",
       " \n",
       "   主营业务收入\\n[单位]万元\\n[报告期]2022-12-31\\n[报表类型]合并报表  \\\n",
       " 1                               295567.167369   \n",
       " 2                                50406.731974   \n",
       " 3                               528426.374476   \n",
       " 4                               135766.936902   \n",
       " 5                              1901866.905707   \n",
       " \n",
       "   主营业务收入\\n[单位]万元\\n[报告期]2023-12-31\\n[报表类型]合并报表   2021调整幅度   2022调整幅度  \\\n",
       " 1                               341508.112981   9.422345   8.720762   \n",
       " 2                                51718.906349   5.948977   7.857278   \n",
       " 3                               548522.885705  11.848193  11.658488   \n",
       " 4                               130864.517343  10.240627   9.020780   \n",
       " 5                              2280961.509877  12.076545  11.268920   \n",
       " \n",
       "     2023调整幅度  2021资金占用  2022资金占用  2023资金占用  \n",
       " 1   7.871112 -0.889011 -0.873020 -0.907793  \n",
       " 2   7.654468 -0.828654 -0.587176 -0.358485  \n",
       " 3  11.524902 -0.995699 -1.248150 -0.913811  \n",
       " 4   9.460878 -0.023210  0.111413  0.023060  \n",
       " 5   9.514300 -1.965515 -1.929128 -1.889968  \n",
       " \n",
       " [5 rows x 26 columns])"
      ]
     },
     "execution_count": 2,
     "metadata": {},
     "output_type": "execute_result"
    }
   ],
   "source": [
    "# 定义要筛选的行业列表\n",
    "selected_industries = ['工业', '材料', '信息技术', '可选消费']\n",
    "\n",
    "# 筛选出属于这四大行业的数据\n",
    "filtered_industry_data = industry_data[industry_data['所属Wind行业名称\\n[行业级别]一级行业'].isin(selected_industries)]\n",
    "# 筛选出属于这四大行业的供应链韧性数据\n",
    "filtered_supply_chain_data = supply_chain_data[supply_chain_data['所属一级行业'].isin(selected_industries)]\n",
    "\n",
    "# 显示筛选后的数据\n",
    "filtered_supply_chain_data.head(), filtered_industry_data.head()"
   ]
  },
  {
   "cell_type": "code",
   "execution_count": 3,
   "id": "8510da3f",
   "metadata": {},
   "outputs": [
    {
     "name": "stdout",
     "output_type": "stream",
     "text": [
      "       公司名称  year 所属一级行业    资金占用差异    库存调整差异     成功\n",
      "0      国华网安  2013   信息技术 -0.114899  1.505167  False\n",
      "1      国华网安  2012   信息技术 -0.126694  1.329500  False\n",
      "2      唐城文化  2015   可选消费  0.152887  1.450382  False\n",
      "3      唐城文化  2016   可选消费  0.074259  0.841610  False\n",
      "4     *ST全新  2012   可选消费  0.153939  0.853230  False\n",
      "...     ...   ...    ...       ...       ...    ...\n",
      "1503   潍柴重机  2019     工业  0.193487 -1.269731   True\n",
      "1504   潍柴重机  2020     工业  0.140019 -1.472550   True\n",
      "1505   潍柴重机  2020     工业  0.140019 -1.472550   True\n",
      "1506   潍柴重机  2020     工业  0.140019 -1.472550   True\n",
      "1507   中广核技  2019     工业  0.193487       NaN  False\n",
      "\n",
      "[1508 rows x 6 columns]\n"
     ]
    }
   ],
   "source": [
    "# 计算每个行业每年的资金占用情况和上游企业库存调整幅度的平均值\n",
    "industry_averages = filtered_supply_chain_data.groupby(['所属一级行业', 'year'])[['资金占用情况', '上游企业库存调整幅度']].mean().reset_index()\n",
    "\n",
    "# 合并供应链数据与行业平均值\n",
    "merged_data = pd.merge(filtered_supply_chain_data, industry_averages, on=['所属一级行业', 'year'], suffixes=('', '_avg'))\n",
    "\n",
    "# 计算差异并标记成功或不成功\n",
    "merged_data['资金占用差异'] = merged_data['资金占用情况'] - merged_data['资金占用情况_avg']\n",
    "merged_data['库存调整差异'] = merged_data['上游企业库存调整幅度'] - merged_data['上游企业库存调整幅度_avg']\n",
    "merged_data['成功'] = (merged_data['资金占用差异'] + merged_data['库存调整差异']) < 0\n",
    "\n",
    "# 查看结果\n",
    "print(merged_data[['公司名称', 'year', '所属一级行业', '资金占用差异', '库存调整差异', '成功']])"
   ]
  },
  {
   "cell_type": "code",
   "execution_count": 4,
   "id": "d1128679",
   "metadata": {},
   "outputs": [
    {
     "name": "stdout",
     "output_type": "stream",
     "text": [
      "成功的企业个数: 686\n"
     ]
    }
   ],
   "source": [
    "# 计算标记为True的企业个数\n",
    "success_count = merged_data[merged_data['成功']].shape[0]\n",
    "print(\"成功的企业个数:\", success_count)\n",
    "\n",
    "# 保存结果到Excel文件\n",
    "merged_data.to_excel('供应链金融成功分析结果.xlsx', index=False)"
   ]
  },
  {
   "cell_type": "code",
   "execution_count": 10,
   "id": "9418ec61",
   "metadata": {},
   "outputs": [
    {
     "name": "stderr",
     "output_type": "stream",
     "text": [
      "/var/folders/_r/9qn7rq_s5cgfvkcfk_nwn8_c0000gn/T/ipykernel_18032/1757822639.py:22: FutureWarning: \n",
      "\n",
      "Passing `palette` without assigning `hue` is deprecated and will be removed in v0.14.0. Assign the `x` variable to `hue` and set `legend=False` for the same effect.\n",
      "\n",
      "  sns.barplot(x=success_counts.index, y=success_counts.values, palette=\"viridis\")\n"
     ]
    },
    {
     "data": {
      "image/png": "[encoded data removed]",
      "text/plain": [
       "<Figure size 800x600 with 1 Axes>"
      ]
     },
     "metadata": {},
     "output_type": "display_data"
    }
   ],
   "source": [
    "import matplotlib.pyplot as plt\n",
    "import seaborn as sns\n",
    "from matplotlib.font_manager import FontProperties\n",
    "\n",
    "# 读取Excel文件\n",
    "file_path = '供应链金融成功分析结果.xlsx'\n",
    "data = pd.read_excel(file_path)\n",
    "\n",
    "# 设置中文字体\n",
    "plt.rcParams['font.sans-serif'] = ['PingFang HK']  # 使用PingFang HK字体支持中文显示\n",
    "plt.rcParams['axes.unicode_minus'] = False  # 解决负号显示问题\n",
    "\n",
    "# 确保中文字体正确加载\n",
    "font = FontProperties(fname='/System/Library/Fonts/PingFang.ttc')\n",
    "\n",
    "# 统计“成功”列中True和False的数量\n",
    "success_counts = data[\"成功\"].value_counts()\n",
    "\n",
    "# 创建柱状图来可视化成功率\n",
    "plt.figure(figsize=(8, 6))\n",
    "sns.set(style=\"whitegrid\")\n",
    "sns.barplot(x=success_counts.index, y=success_counts.values, palette=\"viridis\")\n",
    "plt.title(\"供应链金融业务开展是否成功\", fontproperties=font)\n",
    "plt.xlabel(\"是否成功\", fontproperties=font)\n",
    "plt.ylabel(\"计数\", fontproperties=font)\n",
    "plt.xticks(ticks=[0, 1], labels=['是', '否'], fontproperties=font)\n",
    "\n",
    "# 保存图表\n",
    "plt.savefig('供应链金融业务开展是否成功.png', dpi=600)\n",
    "\n",
    "# 显示图表\n",
    "plt.show()\n"
   ]
  },
  {
   "cell_type": "code",
   "execution_count": null,
   "id": "9411b95c",
   "metadata": {},
   "outputs": [],
   "source": []
  },
  {
   "cell_type": "code",
   "execution_count": null,
   "id": "fe7e2d83",
   "metadata": {},
   "outputs": [],
   "source": []
  },
  {
   "cell_type": "code",
   "execution_count": null,
   "id": "b6a1735d",
   "metadata": {},
   "outputs": [],
   "source": []
  }
 ],
 "metadata": {
  "kernelspec": {
   "display_name": "Python 3 (ipykernel)",
   "language": "python",
   "name": "python3"
  },
  "language_info": {
   "codemirror_mode": {
    "name": "ipython",
    "version": 3
   },
   "file_extension": ".py",
   "mimetype": "text/x-python",
   "name": "python",
   "nbconvert_exporter": "python",
   "pygments_lexer": "ipython3",
   "version": "3.13.5"
  }
 },
 "nbformat": 4,
 "nbformat_minor": 5
}
