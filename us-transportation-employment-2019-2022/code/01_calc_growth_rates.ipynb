{
 "cells": [
  {
   "cell_type": "code",
   "execution_count": 5,
   "id": "b25a63fd",
   "metadata": {},
   "outputs": [
    {
     "name": "stdout",
     "output_type": "stream",
     "text": [
      "Project root: /Users/lirunzhi/Documents/2024一些美国的材料/ECON129/MAP project/Mapping project_副本\n",
      "Raw data dir exists: True\n",
      "Saved: /Users/lirunzhi/Documents/2024一些美国的材料/ECON129/MAP project/Mapping project_副本/data/processed/employment_growth_rate.csv\n"
     ]
    }
   ],
   "source": [
    "from pathlib import Path\n",
    "import pandas as pd\n",
    "\n",
    "# ---- find project root (works in Jupyter) ----\n",
    "def find_root(start=Path.cwd()):\n",
    "    for p in [start, *start.parents]:\n",
    "        if (p / \".here\").exists() or (p / \"data\").is_dir():\n",
    "            return p\n",
    "    return start  # fallback\n",
    "\n",
    "ROOT = find_root()\n",
    "DATA_RAW = ROOT / \"data\" / \"raw\"\n",
    "DATA_PROCESSED = ROOT / \"data\" / \"processed\"\n",
    "\n",
    "print(\"Project root:\", ROOT)           \n",
    "print(\"Raw data dir exists:\", DATA_RAW.exists())\n",
    "\n",
    "# ---- load raw files ----\n",
    "data_2019 = pd.read_csv(DATA_RAW / \"data2019.csv\")\n",
    "data_2022 = pd.read_csv(DATA_RAW / \"data2022.csv\")\n",
    "\n",
    "# make sure EMP is numeric\n",
    "for df in (data_2019, data_2022):\n",
    "    df[\"EMP\"] = pd.to_numeric(df[\"EMP\"], errors=\"coerce\")\n",
    "\n",
    "# merge on STATEA, COUNTYA, naics\n",
    "merged = (\n",
    "    data_2019[[\"STATEA\", \"COUNTYA\", \"naics\", \"EMP\"]].rename(columns={\"EMP\": \"EMP_2019\"})\n",
    "    .merge(\n",
    "        data_2022[[\"STATEA\", \"COUNTYA\", \"naics\", \"EMP\"]].rename(columns={\"EMP\": \"EMP_2022\"}),\n",
    "        on=[\"STATEA\", \"COUNTYA\", \"naics\"],\n",
    "        how=\"inner\"\n",
    "    )\n",
    ")\n",
    "\n",
    "# compute growth rate (%)\n",
    "merged = merged.dropna(subset=[\"EMP_2019\", \"EMP_2022\"])\n",
    "merged[\"Growth_Rate\"] = (merged[\"EMP_2022\"] - merged[\"EMP_2019\"]) / merged[\"EMP_2019\"] * 100\n",
    "\n",
    "# save to processed/\n",
    "out_path = DATA_PROCESSED / \"employment_growth_rate.csv\"\n",
    "out_path.parent.mkdir(parents=True, exist_ok=True)   # 若不存在则创建目录\n",
    "merged.to_csv(out_path, index=False)\n",
    "print(\"Saved:\", out_path)"
   ]
  },
  {
   "cell_type": "code",
   "execution_count": null,
   "id": "4ca3b6c1",
   "metadata": {},
   "outputs": [],
   "source": []
  }
 ],
 "metadata": {
  "kernelspec": {
   "display_name": "Python 3 (ipykernel)",
   "language": "python",
   "name": "python3"
  },
  "language_info": {
   "codemirror_mode": {
    "name": "ipython",
    "version": 3
   },
   "file_extension": ".py",
   "mimetype": "text/x-python",
   "name": "python",
   "nbconvert_exporter": "python",
   "pygments_lexer": "ipython3",
   "version": "3.13.5"
  }
 },
 "nbformat": 4,
 "nbformat_minor": 5
}
