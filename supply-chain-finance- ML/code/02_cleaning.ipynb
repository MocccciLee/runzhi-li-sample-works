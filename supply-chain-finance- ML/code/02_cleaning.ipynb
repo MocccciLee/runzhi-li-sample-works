{
 "cells": [
  {
   "cell_type": "markdown",
   "id": "3dd0533c",
   "metadata": {},
   "source": [
    "# Part2: Preliminary Data Cleaning\n",
    "<span style=\"color:red;\">**Note: Since the work is divided into scraping and subsequent manual processing, the project code is split into five files. This is the second code file.**</span>\n",
    " \n",
    "## 1. Merge Excel files collected from distributed scraping"
   ]
  },
  {
   "cell_type": "code",
   "execution_count": 1,
   "id": "fb25b9b0",
   "metadata": {},
   "outputs": [],
   "source": [
    "import pandas as pd\n",
    "# 列出所有文件名，这部分数据在文件夹“中间数据”中\n",
    "file_names = [\n",
    "    'Extracted_Data_LKH.xlsx',\n",
    "    'Extracted_Data_PXL.xlsx',\n",
    "    'Extracted_Data_ZS.xlsx',\n",
    "    'Extracted_Data_LRZ.xlsx',\n",
    "]\n",
    "\n",
    "# 读取并合并所有文件\n",
    "def merge_excel_files(file_list):\n",
    "    data_frames = []\n",
    "    for file_name in file_list:\n",
    "        data_path = f'{file_name}'\n",
    "        df = pd.read_excel(data_path)\n",
    "        data_frames.append(df)\n",
    "    combined_df = pd.concat(data_frames, ignore_index=True)\n",
    "    return combined_df\n",
    "\n",
    "# 合并数据并保存到一个新文件\n",
    "combined_data = merge_excel_files(file_names)\n",
    "combined_data.to_excel('数据清理1.0.xlsx', index=False)"
   ]
  },
  {
   "cell_type": "markdown",
   "id": "f2b232b1",
   "metadata": {},
   "source": [
    "\n",
    "## 2. Preparation\n",
    "\n"
   ]
  },
  {
   "cell_type": "code",
   "execution_count": 2,
   "id": "c1e41d49",
   "metadata": {},
   "outputs": [
    {
     "data": {
      "text/html": [
       "<div>\n",
       "<style scoped>\n",
       "    .dataframe tbody tr th:only-of-type {\n",
       "        vertical-align: middle;\n",
       "    }\n",
       "\n",
       "    .dataframe tbody tr th {\n",
       "        vertical-align: top;\n",
       "    }\n",
       "\n",
       "    .dataframe thead th {\n",
       "        text-align: right;\n",
       "    }\n",
       "</style>\n",
       "<table border=\"1\" class=\"dataframe\">\n",
       "  <thead>\n",
       "    <tr style=\"text-align: right;\">\n",
       "      <th></th>\n",
       "      <th>股票代码</th>\n",
       "      <th>标题</th>\n",
       "      <th>发布时间</th>\n",
       "      <th>摘要内容</th>\n",
       "      <th>original_index</th>\n",
       "    </tr>\n",
       "  </thead>\n",
       "  <tbody>\n",
       "    <tr>\n",
       "      <th>0</th>\n",
       "      <td>603567</td>\n",
       "      <td>珍宝岛：黑龙江珍宝岛药业股份有限公司2021年年度报告</td>\n",
       "      <td>2022-04-30</td>\n",
       "      <td>通过建设仓储物流体系、质检追溯体系、供应链金融体系、中药材标准化体系，打造优质优价的一手药材货源。</td>\n",
       "      <td>0</td>\n",
       "    </tr>\n",
       "    <tr>\n",
       "      <th>1</th>\n",
       "      <td>601825</td>\n",
       "      <td>沪农商行：上海农商银行2021年社会责任报告</td>\n",
       "      <td>2022-04-30</td>\n",
       "      <td>[一 经济责任]\\n云南蒙自沪农商村镇银行多方联动构建供应链金融服务模式 | 为助力石榴产业...</td>\n",
       "      <td>1</td>\n",
       "    </tr>\n",
       "    <tr>\n",
       "      <th>2</th>\n",
       "      <td>601825</td>\n",
       "      <td>沪农商行：上海农村商业银行股份有限公司2021年度独立董事述职报告</td>\n",
       "      <td>2022-04-30</td>\n",
       "      <td>通过积极参加本行活动， 如参与战略规划及综合研究类课题评审， 指导本行开展投行联动、 供应链...</td>\n",
       "      <td>2</td>\n",
       "    </tr>\n",
       "    <tr>\n",
       "      <th>3</th>\n",
       "      <td>601825</td>\n",
       "      <td>沪农商行：上海农商银行2021年度报告</td>\n",
       "      <td>2022-04-30</td>\n",
       "      <td>本公司持续优化贷款结构，紧跟国家战略，围绕制造业、“3+6” 14 重点产业 、供应链金融、...</td>\n",
       "      <td>3</td>\n",
       "    </tr>\n",
       "    <tr>\n",
       "      <th>4</th>\n",
       "      <td>601825</td>\n",
       "      <td>沪农商行：上海农商银行2021年度报告摘要</td>\n",
       "      <td>2022-04-30</td>\n",
       "      <td>本公司持续优化贷款结构，紧跟国家战略，围绕制造业、“3+6”重点产业2、供应链金融、贸易融资...</td>\n",
       "      <td>4</td>\n",
       "    </tr>\n",
       "  </tbody>\n",
       "</table>\n",
       "</div>"
      ],
      "text/plain": [
       "     股票代码                                 标题        发布时间  \\\n",
       "0  603567        珍宝岛：黑龙江珍宝岛药业股份有限公司2021年年度报告  2022-04-30   \n",
       "1  601825             沪农商行：上海农商银行2021年社会责任报告  2022-04-30   \n",
       "2  601825  沪农商行：上海农村商业银行股份有限公司2021年度独立董事述职报告  2022-04-30   \n",
       "3  601825                沪农商行：上海农商银行2021年度报告  2022-04-30   \n",
       "4  601825              沪农商行：上海农商银行2021年度报告摘要  2022-04-30   \n",
       "\n",
       "                                                摘要内容  original_index  \n",
       "0  通过建设仓储物流体系、质检追溯体系、供应链金融体系、中药材标准化体系，打造优质优价的一手药材货源。               0  \n",
       "1  [一 经济责任]\\n云南蒙自沪农商村镇银行多方联动构建供应链金融服务模式 | 为助力石榴产业...               1  \n",
       "2  通过积极参加本行活动， 如参与战略规划及综合研究类课题评审， 指导本行开展投行联动、 供应链...               2  \n",
       "3  本公司持续优化贷款结构，紧跟国家战略，围绕制造业、“3+6” 14 重点产业 、供应链金融、...               3  \n",
       "4  本公司持续优化贷款结构，紧跟国家战略，围绕制造业、“3+6”重点产业2、供应链金融、贸易融资...               4  "
      ]
     },
     "execution_count": 2,
     "metadata": {},
     "output_type": "execute_result"
    }
   ],
   "source": [
    "# 读取原始数据\n",
    "data_path = '数据清理1.0.xlsx'\n",
    "df = pd.read_excel(data_path)\n",
    "df['original_index'] = df.index\n",
    "# 记录原始数据量\n",
    "original_count = df.shape[0]\n",
    "\n",
    "df.head()"
   ]
  },
  {
   "cell_type": "markdown",
   "id": "2e878c38",
   "metadata": {},
   "source": [
    "## 3. Data Processing Code\n",
    "### 3.1 Remove missing values and duplicates\n"
   ]
  },
  {
   "cell_type": "code",
   "execution_count": 3,
   "id": "5ac43552",
   "metadata": {},
   "outputs": [
    {
     "name": "stdout",
     "output_type": "stream",
     "text": [
      "删除了 540 个缺失值\n",
      "删除了 5011 个重复值\n",
      "剩余 6015 条数据\n"
     ]
    }
   ],
   "source": [
    "# 删除“摘要内容”列中的缺失值\n",
    "df = df.dropna(subset=['摘要内容'])\n",
    "missing_removed_count = original_count - df.shape[0]  \n",
    "\n",
    "# 删除重复数据：保留“摘要内容”中“|”出现次数最多的记录\n",
    "df['pipe_count'] = df['摘要内容'].astype(str).apply(lambda x: x.count('|'))  \n",
    "df = df.sort_values(by='pipe_count', ascending=False).drop_duplicates(subset=['股票代码', '发布时间'], keep='first')\n",
    "duplicates_removed_count = df.shape[0]  \n",
    "df.drop(columns='pipe_count', inplace=True)  \n",
    "\n",
    "# 为“标题”和“股票代码”之间插入“公司名称”列\n",
    "df.insert(1, \"公司名称\", df[\"标题\"].apply(lambda x: x.split(\"：\")[0] if \"：\" in x else x[:4]))\n",
    "\n",
    "# 清理股票代码，只保留长度为6的代码，否则清空\n",
    "df['股票代码'] = df['股票代码'].apply(lambda x: x if len(str(x)) == 6 else '')\n",
    "\n",
    "# 计算“摘要内容”中“|”出现的次数并加1，添加为新列“关键词统计”\n",
    "df['关键词统计'] = df['摘要内容'].astype(str).apply(lambda x: x.count('|') + 1)\n",
    "\n",
    "# 分割“摘要内容”字段，创建多个内容列\n",
    "max_splits = df['摘要内容'].astype(str).str.count(' \\| ').max() + 1  \n",
    "for i in range(1, max_splits + 1):\n",
    "    df[f'内容{i}'] = df['摘要内容'].str.split(' \\| ').str[i - 1]\n",
    "\n",
    "# 计算重复删除后的净删除量\n",
    "duplicates_removed_count = original_count - duplicates_removed_count\n",
    "\n",
    "# 打印处理报告\n",
    "print(f\"删除了 {missing_removed_count} 个缺失值\")\n",
    "print(f\"删除了 {duplicates_removed_count} 个重复值\")\n",
    "print(f\"剩余 {df.shape[0]} 条数据\")\n",
    "\n",
    "# 保存处理后的数据\n",
    "df.to_excel('数据清理1.1.xlsx', index=False)"
   ]
  },
  {
   "cell_type": "markdown",
   "id": "960ffe98",
   "metadata": {},
   "source": [
    "\n",
    "### 3.2 Further cleaning: remove additional duplicates\n"
   ]
  },
  {
   "cell_type": "code",
   "execution_count": 4,
   "id": "f4cbe0a2",
   "metadata": {},
   "outputs": [
    {
     "data": {
      "text/plain": [
       "'数据清理2.0.xlsx'"
      ]
     },
     "execution_count": 4,
     "metadata": {},
     "output_type": "execute_result"
    }
   ],
   "source": [
    "import pandas as pd\n",
    "from difflib import SequenceMatcher\n",
    "\n",
    "# 读取数据\n",
    "data_path = '数据清理1.1.xlsx'\n",
    "data = pd.read_excel(data_path)\n",
    "\n",
    "# 相似度计算函数\n",
    "def is_similar(a, b, threshold=0.9):\n",
    "    return SequenceMatcher(None, a, b).ratio() >= threshold\n",
    "\n",
    "# 检查并处理重复内容\n",
    "for index, row in data.iterrows():\n",
    "    # 保留第一次出现不相似的内容\n",
    "    contents = [row[f'内容{i}'] for i in range(1, 6) if pd.notna(row[f'内容{i}'])]\n",
    "    unique_contents = []\n",
    "    to_remove = 0\n",
    "\n",
    "    for content in contents:\n",
    "        if all(not is_similar(content, unique_content) for unique_content in unique_contents):\n",
    "            unique_contents.append(content)\n",
    "        else:\n",
    "            to_remove += 1  \n",
    "\n",
    "    # 更新行内容\n",
    "    for i in range(1, 6):\n",
    "        if i <= len(unique_contents):\n",
    "            data.at[index, f'内容{i}'] = unique_contents[i-1]\n",
    "        else:\n",
    "            data.at[index, f'内容{i}'] = pd.NA  \n",
    "\n",
    "\n",
    "# 重新计算“关键词统计”，作为非空内容列的数量\n",
    "content_columns = [col for col in df.columns if col.startswith('内容')]\n",
    "df['关键词统计'] = df[content_columns].apply(lambda row: row.count(), axis=1)\n",
    "\n",
    "# 保存处理后的数据到新的Excel文件\n",
    "processed_data_path = '数据清理2.0.xlsx'\n",
    "data.to_excel(processed_data_path, index=False)\n",
    "\n",
    "processed_data_path"
   ]
  },
  {
   "cell_type": "markdown",
   "id": "951b2231",
   "metadata": {},
   "source": [
    "\n",
    "## 4. Delete intermediate files"
   ]
  },
  {
   "cell_type": "code",
   "execution_count": 5,
   "id": "a624d152",
   "metadata": {},
   "outputs": [
    {
     "name": "stdout",
     "output_type": "stream",
     "text": [
      "文件 数据清理1.0.xlsx 已删除。\n",
      "文件 数据清理1.1.xlsx 已删除。\n"
     ]
    }
   ],
   "source": [
    "import os\n",
    "files_to_delete = ['数据清理1.0.xlsx', '数据清理1.1.xlsx']\n",
    "for file_name in files_to_delete:\n",
    "    try:\n",
    "        os.remove(file_name)\n",
    "        print(f\"文件 {file_name} 已删除。\")\n",
    "    except FileNotFoundError:\n",
    "        print(f\"找不到文件 {file_name}，可能已被删除。\")\n",
    "    except Exception as e:\n",
    "        print(f\"删除文件 {file_name} 时出错：{e}\")"
   ]
  }
 ],
 "metadata": {
  "kernelspec": {
   "display_name": "Python 3 (ipykernel)",
   "language": "python",
   "name": "python3"
  },
  "language_info": {
   "codemirror_mode": {
    "name": "ipython",
    "version": 3
   },
   "file_extension": ".py",
   "mimetype": "text/x-python",
   "name": "python",
   "nbconvert_exporter": "python",
   "pygments_lexer": "ipython3",
   "version": "3.13.5"
  }
 },
 "nbformat": 4,
 "nbformat_minor": 5
}
